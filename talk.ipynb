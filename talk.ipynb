{
 "cells": [
  {
   "cell_type": "markdown",
   "metadata": {
    "slideshow": {
     "slide_type": "slide"
    }
   },
   "source": [
    "# SixTrackLib\n",
    "\n",
    "### ... and GPU simulations of particle beams in synchrotrons\n",
    "\n",
    "<br /><br />\n",
    "\n",
    "##### a notebook talk by Adrian Oeftiger (GSI) and Martin Schwinzerl (CERN, Uni Graz)\n",
    "\n",
    "AMD and GSI meeting on 2 November 2020. See also [rendered talk on github $\\nearrow$](https://aoeftiger.github.io/AMD-GSI-SixTrackLib-11-2020/) besides [source in github repo $\\nearrow$](https://github.com/aoeftiger/AMD-GSI-SixTrackLib-11-2020/).\n",
    "\n",
    "<br />\n",
    "<center>\n",
    "    <small>(hit space to go to the next slide)</small>\n",
    "</center>"
   ]
  },
  {
   "cell_type": "markdown",
   "metadata": {
    "slideshow": {
     "slide_type": "slide"
    }
   },
   "source": [
    "# ... the origins ..."
   ]
  },
  {
   "cell_type": "markdown",
   "metadata": {
    "slideshow": {
     "slide_type": "slide"
    }
   },
   "source": [
    "Legacy simulation code [`SixTrack` $\\nearrow$](http://sixtrack.web.cern.ch/SixTrack/):\n",
    "\n",
    "* used in volunteered computing network BOINC: \n",
    "[40TFLOPS, >170'000 registered users $\\nearrow$](https://lhcathome.cern.ch/lhcathome/server_status.php)\n",
    "* 72'000 lines of `Fortran77/90` code\n",
    "* **identical** numerical results across OS and hardware platforms\n",
    "* re-implemented from scratch as C-templated code `SixTrackLib`\n",
    "* adding GPU support via `openCL` (and `CUDA`)\n",
    "\n",
    "$\\implies$ aim for both 1) distributed BOINC computing and 2) HPC on GPU clusters\n",
    "\n",
    "<div style=\"margin: auto; width: 60%;\">\n",
    "    <img src=\"images/boinc.png\" alt=\"BOINC logo\" style=\"width: 30%; float:left; margin-top: 25px;\" />\n",
    "    <img src=\"images/lhcathome.png\" alt=\"LHC@home logo\" style=\"width: 40%; float:left; margin-left: 10%;\" />\n",
    "</div>"
   ]
  },
  {
   "cell_type": "markdown",
   "metadata": {
    "slideshow": {
     "slide_type": "slide"
    }
   },
   "source": [
    "# ... the applications of `SixTrackLib` ..."
   ]
  },
  {
   "cell_type": "markdown",
   "metadata": {
    "slideshow": {
     "slide_type": "slide"
    }
   },
   "source": [
    "## GSI: SIS100 Magnet Field Errors\n",
    "\n",
    "* SIS100 heavy-ion synchrotron under construction at GSI\n",
    "* new magnets (dipoles, quadrupoles) built, measurements of field quality\n",
    "\n",
    "$\\implies$ `SixTrackLib` helps to evaluate impact of field errors on beam dynamics (long-term beam storage for 160'000 revolutions): \n",
    "\n",
    "$\\implies$ now 2 mins instead of 16 h / simulation\n",
    "~"
   ]
  },
  {
   "cell_type": "markdown",
   "metadata": {
    "slideshow": {
     "slide_type": "slide"
    }
   },
   "source": [
    "# ... the modelled physics ..."
   ]
  },
  {
   "cell_type": "markdown",
   "metadata": {
    "slideshow": {
     "slide_type": "slide"
    }
   },
   "source": [
    "# Beam Model\n",
    "\n",
    "3D particle motion $\\leadsto$ 6 phase space coordinates:\n",
    "$$\\mathbb{X}=(\\underbrace{x, x'\\vphantom{y'}}_{horizontal}, \\underbrace{y, y'}_{vertical}, \\underbrace{z, \\delta\\vphantom{y'}}_{longitudinal})$$\n",
    "\n",
    "A beam $=$ state of $N$ macro-particles $=$ $6N$ values of phase space coordinates\n",
    "\n",
    "<center>\n",
    "    <img src=\"images/bunch.png\" alt=\"particle bunch sketch\" style=\"width:30%;\" />\n",
    "</center>"
   ]
  },
  {
   "cell_type": "markdown",
   "metadata": {
    "slideshow": {
     "slide_type": "slide"
    }
   },
   "source": [
    "# Accelerator Model\n",
    "\n",
    "Symplectic non-linear 6D tracking through elements along accelerator ring:\n",
    "\n",
    "<p style=\"width: 80%; margin: 25px auto;\">\n",
    "    <img src='images/sis100.jpg' alt='SIS100 layout' style='width: 30%; float: left; margin-top: 0;' />\n",
    "    <img src=\"images/transverse-model_empty.png\" alt=\"sketch of one-turn map for ring\" style=\"width:30%; float: left; margin-left: 5%; margin-top: 0;\" />\n",
    "    <img src=\"images/tracking.png\" alt=\"tracking sketch\" style=\"width:30%; float: left; margin-left: 5%; margin-top: 0;\" />\n",
    "</p>"
   ]
  },
  {
   "cell_type": "markdown",
   "metadata": {
    "slideshow": {
     "slide_type": "slide"
    }
   },
   "source": [
    "# ... the numerics ..."
   ]
  },
  {
   "cell_type": "markdown",
   "metadata": {
    "slideshow": {
     "slide_type": "slide"
    }
   },
   "source": [
    "## Simulations Requirements:\n",
    "\n",
    "\n",
    "* **accurate**: long-term evolution $\\leadsto$ double precision\n",
    "* **fast**: heavy number crunching $\\leadsto$ high-performance computing (HPC)<br />(in particular GPU parallelisation)\n",
    "* **flexible**: iterative development of accelerator models with frequent updates $\\leadsto$ python (API)"
   ]
  },
  {
   "cell_type": "markdown",
   "metadata": {
    "slideshow": {
     "slide_type": "slide"
    }
   },
   "source": [
    "## Pseudo Code\n",
    "\n",
    "```python\n",
    "for n in range(nturns):\n",
    "    for el_type, el_params in elements:\n",
    "        for p in particles: // parallel!\n",
    "            p = track[el_type](el_params, p)\n",
    "```\n",
    "\n",
    "$\\implies$ **embarrassingly parallel** simulations: particles treated separately\n",
    "\n",
    "$\\leadsto$ current implementation: single kernel with case-switch in `openCL`\n",
    "\n",
    "| What                   || Typical numbers                                     |\n",
    "| :--------------------- || ---------------------------------------------------:|\n",
    "| simulation length      || $\\mathcal{O}(10^4)$ to $\\mathcal{O}(10^7)$ `nturns` |\n",
    "| accelerator `elements` || $\\mathcal{O}(10^3)$ to $\\mathcal{O}(10^5)$          |\n",
    "| element types ($10$ to $20$) || $20$ to $\\mathcal{O}(10^5)$ arithmetic operations |\n",
    "| element parameters     || $1$ to $50$ `el_params`                             |\n",
    "| macro-`particles`      || $\\mathcal{O}(10^4)$ to $\\mathcal{O}(10^6)$          |\n",
    "\n",
    "<!-- \n",
    "* simulation length: $\\mathcal{O}(10^4)$ to $\\mathcal{O}(10^7)$ `nturns`\n",
    "* accelerator `elements` ($1$ to $50$ `el_params`): $\\mathcal{O}(10^3)$ to $\\mathcal{O}(10^5)$\n",
    "* macro-`particles`: $\\mathcal{O}(10^4)$ to $\\mathcal{O}(10^6)$\n",
    "* element `el_type`s ($10$ to $20$): $20$ to $\\mathcal{O}(10^5)$ arithmetic operations\n",
    "-->\n",
    "<!--* particle-to-particle interaction: binning, FFT, convolution, particle-in-cell, Poisson solvers-->"
   ]
  },
  {
   "cell_type": "markdown",
   "metadata": {
    "slideshow": {
     "slide_type": "slide"
    }
   },
   "source": [
    "# ... what we work on! ..."
   ]
  },
  {
   "cell_type": "markdown",
   "metadata": {},
   "source": [
    "## Prospect\n",
    "\n",
    "* AMD Radeon Instinct cards in GSI HPC cluster\n",
    "* lots of LHC@home users with AMD gaming GPUs\n",
    "\n",
    "## Issues to collaborate on with AMD\n",
    "\n",
    "* detailed **profiling** on AMD hardware\n",
    "* **register spilling** throttles throughput: parallelisation approach to be optimised?"
   ]
  },
  {
   "cell_type": "markdown",
   "metadata": {
    "slideshow": {
     "slide_type": "slide"
    }
   },
   "source": [
    "## Current Benchmarks\n",
    "\n",
    "<div style=\"width:80%; margin: 25px auto;\">\n",
    "    <img src=\"images/stl_full.png\" alt=\"SIS100 full errors\" style=\"width: 45%; float:left; margin-top: 0;\" />\n",
    "    <img src=\"images/stl_optimised.png\" alt=\"SIS100 dipole errors\" style=\"width: 45%; float:left; margin-left:10%; margin-top: 0;\" />\n",
    "</div>\n",
    "\n",
    "| AMD Radeon Instinct MI50 | AMD Radeon VII | NVIDIA RTX 2080 | NVIDIA V100 | CPU: AMD EPYC 7551 |\n",
    "| ------------- | ---------- | --------------- | ----------- | ------------- |\n",
    "| 6.7 TFLOPS | 3.5 TFLOPS | 0.44 TFLOPS | 7 TFLOPS | 0.65 TFLOPS |"
   ]
  },
  {
   "cell_type": "markdown",
   "metadata": {},
   "source": [
    "# // Appendix: SixTrackLib Example //"
   ]
  },
  {
   "cell_type": "code",
   "execution_count": null,
   "metadata": {
    "slideshow": {
     "slide_type": "slide"
    }
   },
   "outputs": [],
   "source": [
    "import sixtracklib"
   ]
  },
  {
   "cell_type": "markdown",
   "metadata": {
    "slideshow": {
     "slide_type": "slide"
    }
   },
   "source": [
    "## MAD-X part first"
   ]
  },
  {
   "cell_type": "code",
   "execution_count": null,
   "metadata": {},
   "outputs": [],
   "source": [
    "madx = Madx()\n",
    "madx.options.echo = False\n",
    "madx.options.warn = False\n",
    "madx.options.info = False"
   ]
  },
  {
   "cell_type": "markdown",
   "metadata": {
    "slideshow": {
     "slide_type": "subslide"
    }
   },
   "source": [
    "Define SIS100 lattice in MAD-X:"
   ]
  },
  {
   "cell_type": "code",
   "execution_count": null,
   "metadata": {},
   "outputs": [],
   "source": [
    "madx.call('./SIS100.seq')"
   ]
  },
  {
   "cell_type": "markdown",
   "metadata": {
    "slideshow": {
     "slide_type": "-"
    }
   },
   "source": [
    "Define SIS100 U${}^{28+}$ beam in MAD-X:"
   ]
  },
  {
   "cell_type": "code",
   "execution_count": null,
   "metadata": {},
   "outputs": [],
   "source": [
    "from sixtracklib_setup import *\n",
    "\n",
    "print ('mass = {:d}amu, charge = {:d}e, Ekin = {:.0f}MeV/u'.format(\n",
    "    A, Q, 1e-6 * Ekin_per_nucleon))"
   ]
  },
  {
   "cell_type": "code",
   "execution_count": null,
   "metadata": {},
   "outputs": [],
   "source": [
    "madx.command.beam(particle='ion', mass=A*nmass, charge=Q, energy=Etot);"
   ]
  },
  {
   "cell_type": "code",
   "execution_count": null,
   "metadata": {
    "slideshow": {
     "slide_type": "subslide"
    }
   },
   "outputs": [],
   "source": [
    "madx.input('''\n",
    "            kqd := -0.2798446835;\n",
    "            kqf := 0.2809756135;\n",
    "\n",
    "            K1NL_S00QD1D :=  kqd ;\n",
    "            K1NL_S00QD1F :=  kqf ;\n",
    "            K1NL_S00QD2F :=  kqf ;\n",
    "            K1NL_S52QD11 :=  1.0139780 * kqd ;\n",
    "            K1NL_S52QD12 :=  1.0384325 * kqf ;\n",
    "        ''');"
   ]
  },
  {
   "cell_type": "code",
   "execution_count": null,
   "metadata": {
    "slideshow": {
     "slide_type": "subslide"
    }
   },
   "outputs": [],
   "source": [
    "madx.use(sequence='sis100ring')\n",
    "\n",
    "assert madx.command.select(\n",
    "    flag='MAKETHIN',\n",
    "    class_='QUADRUPOLE',\n",
    "    slice_='9',\n",
    ")\n",
    "\n",
    "assert madx.command.select(\n",
    "    flag='MAKETHIN',\n",
    "    class_='SBEND',\n",
    "    slice_='9',\n",
    ")\n",
    "\n",
    "assert madx.command.makethin(\n",
    "    makedipedge=True,\n",
    "    style='teapot',\n",
    "    sequence='SIS100RING',\n",
    ")"
   ]
  },
  {
   "cell_type": "markdown",
   "metadata": {
    "slideshow": {
     "slide_type": "subslide"
    }
   },
   "source": [
    "Match tunes to $Q_x=18.84$, $Q_y=18.73$:"
   ]
  },
  {
   "cell_type": "code",
   "execution_count": null,
   "metadata": {},
   "outputs": [],
   "source": [
    "madx.use(sequence='sis100ring')\n",
    "\n",
    "madx.input('''\n",
    "match, sequence=SIS100RING;\n",
    "global, sequence=SIS100RING, q1=18.84, q2=18.73;\n",
    "vary, name=kqf, step=0.00001;\n",
    "vary, name=kqd, step=0.00001;\n",
    "lmdif, calls=500, tolerance=1.0e-10;\n",
    "endmatch;\n",
    "''');"
   ]
  },
  {
   "cell_type": "code",
   "execution_count": null,
   "metadata": {
    "slideshow": {
     "slide_type": "subslide"
    }
   },
   "outputs": [],
   "source": [
    "twiss = madx.twiss();\n",
    "\n",
    "print ('\\nQ1 = {:.2f} and Q2 = {:.2f}'.format(\n",
    "    twiss.summary['q1'], twiss.summary['q2']))"
   ]
  },
  {
   "cell_type": "markdown",
   "metadata": {
    "slideshow": {
     "slide_type": "slide"
    }
   },
   "source": [
    "## Now transfer SIS100 lattice to `PySixTrack`"
   ]
  },
  {
   "cell_type": "code",
   "execution_count": null,
   "metadata": {
    "slideshow": {
     "slide_type": "-"
    }
   },
   "outputs": [],
   "source": [
    "pysixtrack_elements = pysixtrack.Line.from_madx_sequence(\n",
    "    madx.sequence.sis100ring, \n",
    "    exact_drift=True, install_apertures=False,\n",
    ")"
   ]
  },
  {
   "cell_type": "markdown",
   "metadata": {},
   "source": [
    "`pysixtrack_elements.elements` is a python list, we can play with it..."
   ]
  },
  {
   "cell_type": "markdown",
   "metadata": {
    "slideshow": {
     "slide_type": "slide"
    }
   },
   "source": [
    "## Finally go to `SixTrackLib`"
   ]
  },
  {
   "cell_type": "markdown",
   "metadata": {},
   "source": [
    "Transfer lattice from `PySixTrack`:"
   ]
  },
  {
   "cell_type": "code",
   "execution_count": null,
   "metadata": {},
   "outputs": [],
   "source": [
    "elements = stl.Elements.from_line(pysixtrack_elements)\n",
    "\n",
    "nturns = 2**16\n",
    "elements.BeamMonitor(num_stores=nturns);"
   ]
  },
  {
   "cell_type": "markdown",
   "metadata": {},
   "source": [
    "And define particle set:"
   ]
  },
  {
   "cell_type": "code",
   "execution_count": null,
   "metadata": {},
   "outputs": [],
   "source": [
    "npart = 1\n",
    "particles = stl.Particles.from_ref(npart, p0c=p0c)"
   ]
  },
  {
   "cell_type": "code",
   "execution_count": null,
   "metadata": {},
   "outputs": [],
   "source": [
    "particles.x += 1e-6\n",
    "particles.y += 1e-6"
   ]
  },
  {
   "cell_type": "markdown",
   "metadata": {
    "slideshow": {
     "slide_type": "subslide"
    }
   },
   "source": [
    "The trackjob will define the simulation kernel for us:"
   ]
  },
  {
   "cell_type": "code",
   "execution_count": null,
   "metadata": {},
   "outputs": [],
   "source": [
    "job = stl.TrackJob(elements, particles, device=None)"
   ]
  },
  {
   "cell_type": "markdown",
   "metadata": {},
   "source": [
    "$\\leadsto$ note the `device` argument:\n",
    "\n",
    "this can be `'opencl:0.0'` for openCL parallelisation, e.g. for multi-core CPU or GPU!\n",
    "\n",
    "### Let's track to confirm the tunes from `MAD-X`:"
   ]
  },
  {
   "cell_type": "code",
   "execution_count": null,
   "metadata": {},
   "outputs": [],
   "source": [
    "job.track_until(nturns)\n",
    "job.collect()"
   ]
  },
  {
   "cell_type": "markdown",
   "metadata": {
    "slideshow": {
     "slide_type": "slide"
    }
   },
   "source": [
    "# Evaluation:"
   ]
  },
  {
   "cell_type": "code",
   "execution_count": null,
   "metadata": {},
   "outputs": [],
   "source": [
    "rec_x = job.output.particles[0].x\n",
    "rec_y = job.output.particles[0].y"
   ]
  },
  {
   "cell_type": "code",
   "execution_count": null,
   "metadata": {},
   "outputs": [],
   "source": [
    "plt.plot(rec_x[:128])\n",
    "plt.plot(rec_y[:128])"
   ]
  },
  {
   "cell_type": "code",
   "execution_count": null,
   "metadata": {
    "slideshow": {
     "slide_type": "subslide"
    }
   },
   "outputs": [],
   "source": [
    "from sixtracklib_setup import plot_tunes_from_stl_results\n",
    "\n",
    "plot_tunes_from_stl_results(twiss, job)"
   ]
  }
 ],
 "metadata": {
  "celltoolbar": "Slideshow",
  "kernelspec": {
   "display_name": "Python 3",
   "language": "python",
   "name": "python3"
  },
  "language_info": {
   "codemirror_mode": {
    "name": "ipython",
    "version": 3
   },
   "file_extension": ".py",
   "mimetype": "text/x-python",
   "name": "python",
   "nbconvert_exporter": "python",
   "pygments_lexer": "ipython3",
   "version": "3.7.3"
  },
  "rise": {
   "scroll": true,
   "transition": "fade"
  }
 },
 "nbformat": 4,
 "nbformat_minor": 4
}
