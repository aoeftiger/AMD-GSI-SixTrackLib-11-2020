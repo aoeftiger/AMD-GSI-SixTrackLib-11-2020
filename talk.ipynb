{
 "cells": [
  {
   "cell_type": "markdown",
   "metadata": {
    "slideshow": {
     "slide_type": "slide"
    }
   },
   "source": [
    "# SixTrackLib\n",
    "\n",
    "### ... and GPU simulations of particle beams in synchrotrons\n",
    "\n",
    "<br /><br />\n",
    "\n",
    "##### a notebook talk by Adrian Oeftiger (GSI) and Martin Schwinzerl (CERN, Uni Graz)\n",
    "\n",
    "AMD and GSI meeting on 2 November 2020. See also [rendered talk on github $\\nearrow$](https://aoeftiger.github.io/AMD-GSI-SixTrackLib-11-2020/) besides [source in github repo $\\nearrow$](https://github.com/aoeftiger/AMD-GSI-SixTrackLib-11-2020/).\n",
    "\n",
    "<br />\n",
    "<center>\n",
    "    <small>(hit space to go to the next slide)</small>\n",
    "</center>"
   ]
  },
  {
   "cell_type": "markdown",
   "metadata": {
    "slideshow": {
     "slide_type": "slide"
    }
   },
   "source": [
    "# ... the origins ..."
   ]
  },
  {
   "cell_type": "markdown",
   "metadata": {
    "slideshow": {
     "slide_type": "slide"
    }
   },
   "source": [
    "Legacy simulation code [`SixTrack` $\\nearrow$](http://sixtrack.web.cern.ch/SixTrack/):\n",
    "\n",
    "* used in volunteered computing network BOINC: \n",
    "[40TFLOPS, >170'000 registered users $\\nearrow$](https://lhcathome.cern.ch/lhcathome/server_status.php)\n",
    "* 72'000 lines of `Fortran77/90` code\n",
    "* **identical** numerical results across OS and hardware platforms\n",
    "* re-implemented from scratch as C-templated code `SixTrackLib`\n",
    "* adding GPU support via `openCL` (and `CUDA`)\n",
    "\n",
    "$\\implies$ aim for both 1) distributed BOINC computing and 2) HPC on GPU clusters\n",
    "\n",
    "<div style=\"margin: auto; width: 60%;\">\n",
    "    <img src=\"images/boinc.png\" alt=\"BOINC logo\" style=\"width: 30%; float:left; margin-top: 25px;\" />\n",
    "    <img src=\"images/lhcathome.png\" alt=\"LHC@home logo\" style=\"width: 40%; float:left; margin-left: 10%;\" />\n",
    "</div>"
   ]
  },
  {
   "cell_type": "markdown",
   "metadata": {
    "slideshow": {
     "slide_type": "slide"
    }
   },
   "source": [
    "# ... the applications of `SixTrackLib` ..."
   ]
  },
  {
   "cell_type": "markdown",
   "metadata": {
    "slideshow": {
     "slide_type": "slide"
    }
   },
   "source": [
    "## GSI: SIS100 Magnet Field Errors\n",
    "\n",
    "* SIS100 heavy-ion synchrotron under construction at GSI\n",
    "* new magnets (dipoles, quadrupoles) built, measurements of field quality\n",
    "\n",
    "$\\implies$ `SixTrackLib` helps to evaluate impact of field errors on beam dynamics (long-term beam storage for 160'000 revolutions): \n",
    "\n",
    "$\\implies$ now 2 mins instead of 16 h / simulation\n",
    "\n",
    "<div style=\"width:80%; margin: auto;\">\n",
    "    <img src=\"images/SIS100-allerrors.png\" alt=\"SIS100 full errors\" style=\"width: 40%; float:left; margin-top: 0;\" />\n",
    "    <img src=\"images/SIS100-diperrors.png\" alt=\"SIS100 dipole errors\" style=\"width: 40%; float:left; margin-left:10%; margin-top: 0;\" />\n",
    "</div>"
   ]
  },
  {
   "cell_type": "markdown",
   "metadata": {
    "slideshow": {
     "slide_type": "slide"
    }
   },
   "source": [
    "# ... the modelled physics ..."
   ]
  },
  {
   "cell_type": "markdown",
   "metadata": {
    "slideshow": {
     "slide_type": "slide"
    }
   },
   "source": [
    "# Beam Model\n",
    "\n",
    "3D particle motion $\\leadsto$ 6 phase space coordinates:\n",
    "$$\\mathbb{X}=(\\underbrace{x, x'\\vphantom{y'}}_{horizontal}, \\underbrace{y, y'}_{vertical}, \\underbrace{z, \\delta\\vphantom{y'}}_{longitudinal})$$\n",
    "\n",
    "A beam $=$ state of $N$ macro-particles $=$ $6N$ values of phase space coordinates\n",
    "\n",
    "<center>\n",
    "    <img src=\"images/bunch.png\" alt=\"particle bunch sketch\" style=\"width:30%;\" />\n",
    "</center>"
   ]
  },
  {
   "cell_type": "markdown",
   "metadata": {
    "slideshow": {
     "slide_type": "slide"
    }
   },
   "source": [
    "# Accelerator Model\n",
    "\n",
    "Symplectic non-linear 6D tracking through elements along accelerator ring:\n",
    "\n",
    "<p style=\"width: 80%; margin: 25px auto;\">\n",
    "    <img src='images/sis100.jpg' alt='SIS100 layout' style='width: 30%; float: left; margin-top: 0;' />\n",
    "    <img src=\"images/transverse-model_empty.png\" alt=\"sketch of one-turn map for ring\" style=\"width:30%; float: left; margin-left: 5%; margin-top: 0;\" />\n",
    "    <img src=\"images/tracking.png\" alt=\"tracking sketch\" style=\"width:30%; float: left; margin-left: 5%; margin-top: 0;\" />\n",
    "</p>"
   ]
  },
  {
   "cell_type": "markdown",
   "metadata": {
    "slideshow": {
     "slide_type": "slide"
    }
   },
   "source": [
    "# ... the numerics ..."
   ]
  },
  {
   "cell_type": "markdown",
   "metadata": {
    "slideshow": {
     "slide_type": "slide"
    }
   },
   "source": [
    "## Simulations Requirements:\n",
    "\n",
    "\n",
    "* **accurate**: long-term evolution $\\leadsto$ double precision\n",
    "* **fast**: heavy number crunching $\\leadsto$ high-performance computing (HPC)<br />(in particular GPU parallelisation)\n",
    "* **flexible**: iterative development of accelerator models with frequent updates $\\leadsto$ python (API)"
   ]
  },
  {
   "cell_type": "markdown",
   "metadata": {
    "slideshow": {
     "slide_type": "slide"
    }
   },
   "source": [
    "## Pseudo Code\n",
    "\n",
    "```python\n",
    "for n in range(nturns):\n",
    "    for el_type, el_params in elements:\n",
    "        for p in particles: // parallel!\n",
    "            p = track[el_type](el_params, p)\n",
    "```\n",
    "\n",
    "$\\implies$ **embarrassingly parallel** simulations: particles treated separately\n",
    "\n",
    "$\\leadsto$ current implementation: single kernel with case-switch in `openCL`\n",
    "\n",
    "| What                   || Typical numbers                                     |\n",
    "| :--------------------- || ---------------------------------------------------:|\n",
    "| simulation length      || $\\mathcal{O}(10^4)$ to $\\mathcal{O}(10^7)$ `nturns` |\n",
    "| accelerator `elements` || $\\mathcal{O}(10^3)$ to $\\mathcal{O}(10^5)$          |\n",
    "| element types ($10$ to $20$) || $20$ to $\\mathcal{O}(10^5)$ arithmetic operations |\n",
    "| element parameters     || $1$ to $50$ `el_params`                             |\n",
    "| macro-`particles`      || $\\mathcal{O}(10^4)$ to $\\mathcal{O}(10^6)$          |\n",
    "\n",
    "<!-- \n",
    "* simulation length: $\\mathcal{O}(10^4)$ to $\\mathcal{O}(10^7)$ `nturns`\n",
    "* accelerator `elements` ($1$ to $50$ `el_params`): $\\mathcal{O}(10^3)$ to $\\mathcal{O}(10^5)$\n",
    "* macro-`particles`: $\\mathcal{O}(10^4)$ to $\\mathcal{O}(10^6)$\n",
    "* element `el_type`s ($10$ to $20$): $20$ to $\\mathcal{O}(10^5)$ arithmetic operations\n",
    "-->\n",
    "<!--* particle-to-particle interaction: binning, FFT, convolution, particle-in-cell, Poisson solvers-->"
   ]
  },
  {
   "cell_type": "markdown",
   "metadata": {
    "slideshow": {
     "slide_type": "slide"
    }
   },
   "source": [
    "# ... what we are working on! ..."
   ]
  },
  {
   "cell_type": "markdown",
   "metadata": {
    "slideshow": {
     "slide_type": "slide"
    }
   },
   "source": [
    "## Current Benchmarks\n",
    "\n",
    "<div style=\"width:100%; margin: auto; \">\n",
    "    <img src=\"images/stl_full.png\" alt=\"SIS100 full errors\" style=\"width: 45%; float:left; margin-top: 30px; margin-bottom: 30px;\" />\n",
    "    <img src=\"images/stl_optimised.png\" alt=\"SIS100 dipole errors\" style=\"width: 45%; float:left; margin-left:10%; margin-top: 30px; margin-bottom: 30px;\" />\n",
    "</div>\n",
    "\n",
    "| AMD Radeon Instinct MI50 | AMD Radeon VII | NVIDIA RTX 2080 | NVIDIA V100 | CPU: AMD EPYC 7551 |\n",
    "| ------------- | ---------- | --------------- | ----------- | ------------- |\n",
    "| 6.7 TFLOPS | 3.5 TFLOPS | 0.44 TFLOPS | 7 TFLOPS | 0.65 TFLOPS |"
   ]
  },
  {
   "cell_type": "markdown",
   "metadata": {
    "slideshow": {
     "slide_type": "slide"
    }
   },
   "source": [
    "## LHC Benchmark\n",
    "\n",
    "<img src=\"images/perf.png\" alt=\"LHC lattice benchmarking\" style=\"width: 80%; margin: auto;\" />"
   ]
  },
  {
   "cell_type": "markdown",
   "metadata": {
    "slideshow": {
     "slide_type": "slide"
    }
   },
   "source": [
    "## Hardware aim for SixTrackLib \n",
    "\n",
    "* AMD Radeon Instinct cards in GSI HPC cluster\n",
    "* lots of LHC@home users with AMD gaming GPUs\n",
    "\n",
    "## Issues to collaborate on with AMD\n",
    "\n",
    "1. detailed **profiling** on AMD GPU hardware\n",
    "2. **register spilling** throttles throughput: parallelisation approach to be optimised?"
   ]
  },
  {
   "cell_type": "markdown",
   "metadata": {
    "slideshow": {
     "slide_type": "slide"
    }
   },
   "source": [
    "## For topic 1: Profiling\n",
    "\n",
    "Various setups:\n",
    "\n",
    "| Environment | Card | Driver |\n",
    "| :---------- | :--: | -----: |\n",
    "| GSI cluster | Radeon Instinct MI50 | ROCM |\n",
    "| GSI workstation | Radeon VII | amdgpu-pro |\n",
    "| CERN workstation | Radeon VII | ROCM |\n",
    "\n",
    "$\\implies$ can provide a typical simulation setup to profile / benchmark"
   ]
  },
  {
   "cell_type": "markdown",
   "metadata": {
    "slideshow": {
     "slide_type": "slide"
    }
   },
   "source": [
    "## For topic 2: Optimisation\n",
    "\n",
    "$\\implies$ Martin Schwinzerl implemented simple demo of SixTrackLib to play with:\n",
    "\n",
    "[https://github.com/martinschwinzerl/demotrack](https://github.com/martinschwinzerl/demotrack)\n",
    "\n",
    "* self-contained library in `openCL` (interfaced to `python` via `pyopencl`)\n",
    "* particles, beam elements, track kernel\n",
    "* light-weight elements (`Drift`, `Multipole`, `Cavity`) and suspected register spilling element (`SpaceChargeCoasting` using `cerrf`)"
   ]
  },
  {
   "cell_type": "markdown",
   "metadata": {
    "slideshow": {
     "slide_type": "slide"
    }
   },
   "source": [
    "# Looking very forward to collaborate with you!\n",
    "\n",
    "# Thank you for your attention"
   ]
  },
  {
   "cell_type": "markdown",
   "metadata": {
    "slideshow": {
     "slide_type": "slide"
    }
   },
   "source": [
    "<div style=\"height:100px;\">&nbsp;</div>"
   ]
  },
  {
   "cell_type": "markdown",
   "metadata": {
    "slideshow": {
     "slide_type": "slide"
    }
   },
   "source": [
    "# // Appendix: SixTrackLib Example //"
   ]
  },
  {
   "cell_type": "code",
   "execution_count": 1,
   "metadata": {
    "slideshow": {
     "slide_type": "slide"
    }
   },
   "outputs": [],
   "source": [
    "import numpy as np\n",
    "import sixtracklib\n",
    "\n",
    "import time"
   ]
  },
  {
   "cell_type": "code",
   "execution_count": 2,
   "metadata": {},
   "outputs": [],
   "source": [
    "elements = sixtracklib.Elements.fromfile('sis100.bin')\n",
    "\n",
    "nturns = 128\n",
    "elements.BeamMonitor(num_stores=nturns);"
   ]
  },
  {
   "cell_type": "code",
   "execution_count": 3,
   "metadata": {},
   "outputs": [],
   "source": [
    "npart = 50 * 1024\n",
    "particles = sixtracklib.Particles.from_ref(npart, p0c=1e9)"
   ]
  },
  {
   "cell_type": "code",
   "execution_count": 4,
   "metadata": {},
   "outputs": [],
   "source": [
    "particles.x += np.linspace(0, 1e-3, npart)\n",
    "particles.y += -np.linspace(0, 1e-3, npart)"
   ]
  },
  {
   "cell_type": "markdown",
   "metadata": {
    "slideshow": {
     "slide_type": "slide"
    }
   },
   "source": [
    "The trackjob will define the simulation kernel for us:"
   ]
  },
  {
   "cell_type": "code",
   "execution_count": 5,
   "metadata": {},
   "outputs": [],
   "source": [
    "job = sixtracklib.TrackJob(elements, particles, device=\"opencl:2.0\")"
   ]
  },
  {
   "cell_type": "code",
   "execution_count": 6,
   "metadata": {},
   "outputs": [
    {
     "name": "stdout",
     "output_type": "stream",
     "text": [
      "Platform #0: Portable Computing Language\r\n",
      " `-- Device #0: pthread-AMD Ryzen Threadripper 1950X 16-Core Processor\r\n",
      "Platform #1: NVIDIA CUDA\r\n",
      " `-- Device #0: GeForce RTX 2080 Ti\r\n",
      "Platform #2: AMD Accelerated Parallel Processing\r\n",
      " `-- Device #0: gfx906\r\n"
     ]
    }
   ],
   "source": [
    "!clinfo -l"
   ]
  },
  {
   "cell_type": "markdown",
   "metadata": {
    "slideshow": {
     "slide_type": "slide"
    }
   },
   "source": [
    "## Let's track"
   ]
  },
  {
   "cell_type": "code",
   "execution_count": 7,
   "metadata": {},
   "outputs": [
    {
     "name": "stdout",
     "output_type": "stream",
     "text": [
      "20.447933435440063\n"
     ]
    }
   ],
   "source": [
    "t0 = time.time()\n",
    "\n",
    "job.track_until(nturns)\n",
    "job.collect()\n",
    "\n",
    "dt = time.time() - t0\n",
    "print (dt) #20.15 sec without BeamMonitor"
   ]
  },
  {
   "cell_type": "markdown",
   "metadata": {
    "slideshow": {
     "slide_type": "slide"
    }
   },
   "source": [
    "# Evaluation:"
   ]
  },
  {
   "cell_type": "code",
   "execution_count": 8,
   "metadata": {},
   "outputs": [],
   "source": [
    "rec_x = job.output.particles[0].x\n",
    "rec_y = job.output.particles[0].y"
   ]
  },
  {
   "cell_type": "code",
   "execution_count": 10,
   "metadata": {},
   "outputs": [
    {
     "data": {
      "text/plain": [
       "[<matplotlib.lines.Line2D at 0x7f6c34154470>]"
      ]
     },
     "execution_count": 10,
     "metadata": {},
     "output_type": "execute_result"
    },
    {
     "data": {
      "image/png": "[encoded data removed]",
      "text/plain": [
       "<Figure size 432x288 with 1 Axes>"
      ]
     },
     "metadata": {
      "needs_background": "light"
     },
     "output_type": "display_data"
    }
   ],
   "source": [
    "import matplotlib.pyplot as plt\n",
    "%matplotlib inline\n",
    "\n",
    "plt.plot(rec_x[1::npart])\n",
    "plt.plot(rec_y[1::npart])"
   ]
  }
 ],
 "metadata": {
  "celltoolbar": "Slideshow",
  "kernelspec": {
   "display_name": "Python 3",
   "language": "python",
   "name": "python3"
  },
  "language_info": {
   "codemirror_mode": {
    "name": "ipython",
    "version": 3
   },
   "file_extension": ".py",
   "mimetype": "text/x-python",
   "name": "python",
   "nbconvert_exporter": "python",
   "pygments_lexer": "ipython3",
   "version": "3.7.3"
  },
  "rise": {
   "scroll": true,
   "transition": "fade"
  }
 },
 "nbformat": 4,
 "nbformat_minor": 4
}
